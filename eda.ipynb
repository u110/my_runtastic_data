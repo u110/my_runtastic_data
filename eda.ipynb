{
 "cells": [
  {
   "cell_type": "code",
   "execution_count": 84,
   "metadata": {},
   "outputs": [],
   "source": [
    "import pandas as pd\n",
    "import seaborn as sns\n",
    "from glob import glob\n",
    "import json\n",
    "import arrow\n",
    "import matplotlib.pyplot as plt\n",
    "\n",
    "%matplotlib inline"
   ]
  },
  {
   "cell_type": "code",
   "execution_count": 85,
   "metadata": {},
   "outputs": [],
   "source": [
    "jsonfiles = glob(\"./data/runsessions/*.json\")"
   ]
  },
  {
   "cell_type": "code",
   "execution_count": 86,
   "metadata": {},
   "outputs": [],
   "source": [
    "results = []\n",
    "for jsonfilepath in jsonfiles:\n",
    "    with open(jsonfilepath) as out:\n",
    "        j = json.load(out)\n",
    "        results.append(j)"
   ]
  },
  {
   "cell_type": "code",
   "execution_count": 87,
   "metadata": {},
   "outputs": [],
   "source": [
    "df = pd.DataFrame(results)"
   ]
  },
  {
   "cell_type": "code",
   "execution_count": 88,
   "metadata": {},
   "outputs": [
    {
     "data": {
      "text/html": [
       "<div>\n",
       "<style scoped>\n",
       "    .dataframe tbody tr th:only-of-type {\n",
       "        vertical-align: middle;\n",
       "    }\n",
       "\n",
       "    .dataframe tbody tr th {\n",
       "        vertical-align: top;\n",
       "    }\n",
       "\n",
       "    .dataframe thead th {\n",
       "        text-align: right;\n",
       "    }\n",
       "</style>\n",
       "<table border=\"1\" class=\"dataframe\">\n",
       "  <thead>\n",
       "    <tr style=\"text-align: right;\">\n",
       "      <th></th>\n",
       "      <th>count</th>\n",
       "      <th>mean</th>\n",
       "      <th>std</th>\n",
       "      <th>min</th>\n",
       "      <th>25%</th>\n",
       "      <th>50%</th>\n",
       "      <th>75%</th>\n",
       "      <th>max</th>\n",
       "    </tr>\n",
       "  </thead>\n",
       "  <tbody>\n",
       "    <tr>\n",
       "      <th>average_speed</th>\n",
       "      <td>124.0</td>\n",
       "      <td>9.209117e+00</td>\n",
       "      <td>2.214713e+00</td>\n",
       "      <td>0.000000e+00</td>\n",
       "      <td>8.844195e+00</td>\n",
       "      <td>9.796326e+00</td>\n",
       "      <td>1.063885e+01</td>\n",
       "      <td>1.157178e+01</td>\n",
       "    </tr>\n",
       "    <tr>\n",
       "      <th>avg_cadence</th>\n",
       "      <td>124.0</td>\n",
       "      <td>0.000000e+00</td>\n",
       "      <td>0.000000e+00</td>\n",
       "      <td>0.000000e+00</td>\n",
       "      <td>0.000000e+00</td>\n",
       "      <td>0.000000e+00</td>\n",
       "      <td>0.000000e+00</td>\n",
       "      <td>0.000000e+00</td>\n",
       "    </tr>\n",
       "    <tr>\n",
       "      <th>calories</th>\n",
       "      <td>124.0</td>\n",
       "      <td>2.219839e+02</td>\n",
       "      <td>7.602289e+01</td>\n",
       "      <td>0.000000e+00</td>\n",
       "      <td>1.635000e+02</td>\n",
       "      <td>2.315000e+02</td>\n",
       "      <td>2.512500e+02</td>\n",
       "      <td>6.470000e+02</td>\n",
       "    </tr>\n",
       "    <tr>\n",
       "      <th>created_at</th>\n",
       "      <td>125.0</td>\n",
       "      <td>1.527464e+12</td>\n",
       "      <td>1.107211e+10</td>\n",
       "      <td>1.483953e+12</td>\n",
       "      <td>1.519687e+12</td>\n",
       "      <td>1.527460e+12</td>\n",
       "      <td>1.536445e+12</td>\n",
       "      <td>1.544739e+12</td>\n",
       "    </tr>\n",
       "    <tr>\n",
       "      <th>distance</th>\n",
       "      <td>125.0</td>\n",
       "      <td>3.244472e+03</td>\n",
       "      <td>1.041166e+03</td>\n",
       "      <td>0.000000e+00</td>\n",
       "      <td>2.437000e+03</td>\n",
       "      <td>3.466000e+03</td>\n",
       "      <td>3.705000e+03</td>\n",
       "      <td>5.856000e+03</td>\n",
       "    </tr>\n",
       "    <tr>\n",
       "      <th>duration</th>\n",
       "      <td>125.0</td>\n",
       "      <td>1.381336e+06</td>\n",
       "      <td>7.191949e+05</td>\n",
       "      <td>0.000000e+00</td>\n",
       "      <td>9.102370e+05</td>\n",
       "      <td>1.262852e+06</td>\n",
       "      <td>1.594335e+06</td>\n",
       "      <td>4.532343e+06</td>\n",
       "    </tr>\n",
       "    <tr>\n",
       "      <th>duration_per_km</th>\n",
       "      <td>124.0</td>\n",
       "      <td>4.440838e+05</td>\n",
       "      <td>3.089368e+05</td>\n",
       "      <td>0.000000e+00</td>\n",
       "      <td>3.373880e+05</td>\n",
       "      <td>3.655155e+05</td>\n",
       "      <td>4.032150e+05</td>\n",
       "      <td>2.282608e+06</td>\n",
       "    </tr>\n",
       "    <tr>\n",
       "      <th>elevation_gain</th>\n",
       "      <td>124.0</td>\n",
       "      <td>3.404032e+01</td>\n",
       "      <td>1.604029e+01</td>\n",
       "      <td>0.000000e+00</td>\n",
       "      <td>2.500000e+01</td>\n",
       "      <td>3.350000e+01</td>\n",
       "      <td>4.700000e+01</td>\n",
       "      <td>1.000000e+02</td>\n",
       "    </tr>\n",
       "    <tr>\n",
       "      <th>elevation_loss</th>\n",
       "      <td>124.0</td>\n",
       "      <td>3.520968e+01</td>\n",
       "      <td>1.691791e+01</td>\n",
       "      <td>0.000000e+00</td>\n",
       "      <td>2.400000e+01</td>\n",
       "      <td>3.450000e+01</td>\n",
       "      <td>4.900000e+01</td>\n",
       "      <td>1.120000e+02</td>\n",
       "    </tr>\n",
       "    <tr>\n",
       "      <th>end_time</th>\n",
       "      <td>124.0</td>\n",
       "      <td>1.527531e+12</td>\n",
       "      <td>1.107900e+10</td>\n",
       "      <td>1.483953e+12</td>\n",
       "      <td>1.519602e+12</td>\n",
       "      <td>1.527589e+12</td>\n",
       "      <td>1.536464e+12</td>\n",
       "      <td>1.544739e+12</td>\n",
       "    </tr>\n",
       "    <tr>\n",
       "      <th>end_time_timezone_offset</th>\n",
       "      <td>124.0</td>\n",
       "      <td>3.240000e+07</td>\n",
       "      <td>0.000000e+00</td>\n",
       "      <td>3.240000e+07</td>\n",
       "      <td>3.240000e+07</td>\n",
       "      <td>3.240000e+07</td>\n",
       "      <td>3.240000e+07</td>\n",
       "      <td>3.240000e+07</td>\n",
       "    </tr>\n",
       "    <tr>\n",
       "      <th>latitude</th>\n",
       "      <td>121.0</td>\n",
       "      <td>-1.000000e+00</td>\n",
       "      <td>0.000000e+00</td>\n",
       "      <td>-1.000000e+00</td>\n",
       "      <td>-1.000000e+00</td>\n",
       "      <td>-1.000000e+00</td>\n",
       "      <td>-1.000000e+00</td>\n",
       "      <td>-1.000000e+00</td>\n",
       "    </tr>\n",
       "    <tr>\n",
       "      <th>longitude</th>\n",
       "      <td>121.0</td>\n",
       "      <td>-1.000000e+00</td>\n",
       "      <td>0.000000e+00</td>\n",
       "      <td>-1.000000e+00</td>\n",
       "      <td>-1.000000e+00</td>\n",
       "      <td>-1.000000e+00</td>\n",
       "      <td>-1.000000e+00</td>\n",
       "      <td>-1.000000e+00</td>\n",
       "    </tr>\n",
       "    <tr>\n",
       "      <th>max_cadence</th>\n",
       "      <td>124.0</td>\n",
       "      <td>0.000000e+00</td>\n",
       "      <td>0.000000e+00</td>\n",
       "      <td>0.000000e+00</td>\n",
       "      <td>0.000000e+00</td>\n",
       "      <td>0.000000e+00</td>\n",
       "      <td>0.000000e+00</td>\n",
       "      <td>0.000000e+00</td>\n",
       "    </tr>\n",
       "    <tr>\n",
       "      <th>max_speed</th>\n",
       "      <td>124.0</td>\n",
       "      <td>1.255716e+01</td>\n",
       "      <td>3.792238e+00</td>\n",
       "      <td>0.000000e+00</td>\n",
       "      <td>1.188305e+01</td>\n",
       "      <td>1.274727e+01</td>\n",
       "      <td>1.343914e+01</td>\n",
       "      <td>4.186800e+01</td>\n",
       "    </tr>\n",
       "    <tr>\n",
       "      <th>pause_duration</th>\n",
       "      <td>124.0</td>\n",
       "      <td>6.772581e+03</td>\n",
       "      <td>3.051654e+04</td>\n",
       "      <td>0.000000e+00</td>\n",
       "      <td>0.000000e+00</td>\n",
       "      <td>0.000000e+00</td>\n",
       "      <td>0.000000e+00</td>\n",
       "      <td>2.312020e+05</td>\n",
       "    </tr>\n",
       "    <tr>\n",
       "      <th>pulse_avg</th>\n",
       "      <td>125.0</td>\n",
       "      <td>0.000000e+00</td>\n",
       "      <td>0.000000e+00</td>\n",
       "      <td>0.000000e+00</td>\n",
       "      <td>0.000000e+00</td>\n",
       "      <td>0.000000e+00</td>\n",
       "      <td>0.000000e+00</td>\n",
       "      <td>0.000000e+00</td>\n",
       "    </tr>\n",
       "    <tr>\n",
       "      <th>pulse_max</th>\n",
       "      <td>125.0</td>\n",
       "      <td>0.000000e+00</td>\n",
       "      <td>0.000000e+00</td>\n",
       "      <td>0.000000e+00</td>\n",
       "      <td>0.000000e+00</td>\n",
       "      <td>0.000000e+00</td>\n",
       "      <td>0.000000e+00</td>\n",
       "      <td>0.000000e+00</td>\n",
       "    </tr>\n",
       "    <tr>\n",
       "      <th>start_time</th>\n",
       "      <td>125.0</td>\n",
       "      <td>1.527443e+12</td>\n",
       "      <td>1.107619e+10</td>\n",
       "      <td>1.483951e+12</td>\n",
       "      <td>1.519342e+12</td>\n",
       "      <td>1.527458e+12</td>\n",
       "      <td>1.536443e+12</td>\n",
       "      <td>1.544738e+12</td>\n",
       "    </tr>\n",
       "    <tr>\n",
       "      <th>start_time_timezone_offset</th>\n",
       "      <td>125.0</td>\n",
       "      <td>3.240000e+07</td>\n",
       "      <td>0.000000e+00</td>\n",
       "      <td>3.240000e+07</td>\n",
       "      <td>3.240000e+07</td>\n",
       "      <td>3.240000e+07</td>\n",
       "      <td>3.240000e+07</td>\n",
       "      <td>3.240000e+07</td>\n",
       "    </tr>\n",
       "    <tr>\n",
       "      <th>temperature</th>\n",
       "      <td>58.0</td>\n",
       "      <td>1.817241e+01</td>\n",
       "      <td>6.049903e+00</td>\n",
       "      <td>2.000000e+00</td>\n",
       "      <td>1.500000e+01</td>\n",
       "      <td>1.900000e+01</td>\n",
       "      <td>2.100000e+01</td>\n",
       "      <td>2.900000e+01</td>\n",
       "    </tr>\n",
       "    <tr>\n",
       "      <th>updated_at</th>\n",
       "      <td>125.0</td>\n",
       "      <td>1.528279e+12</td>\n",
       "      <td>1.044782e+10</td>\n",
       "      <td>1.484437e+12</td>\n",
       "      <td>1.519818e+12</td>\n",
       "      <td>1.528064e+12</td>\n",
       "      <td>1.536614e+12</td>\n",
       "      <td>1.544754e+12</td>\n",
       "    </tr>\n",
       "  </tbody>\n",
       "</table>\n",
       "</div>"
      ],
      "text/plain": [
       "                            count          mean           std           min  \\\n",
       "average_speed               124.0  9.209117e+00  2.214713e+00  0.000000e+00   \n",
       "avg_cadence                 124.0  0.000000e+00  0.000000e+00  0.000000e+00   \n",
       "calories                    124.0  2.219839e+02  7.602289e+01  0.000000e+00   \n",
       "created_at                  125.0  1.527464e+12  1.107211e+10  1.483953e+12   \n",
       "distance                    125.0  3.244472e+03  1.041166e+03  0.000000e+00   \n",
       "duration                    125.0  1.381336e+06  7.191949e+05  0.000000e+00   \n",
       "duration_per_km             124.0  4.440838e+05  3.089368e+05  0.000000e+00   \n",
       "elevation_gain              124.0  3.404032e+01  1.604029e+01  0.000000e+00   \n",
       "elevation_loss              124.0  3.520968e+01  1.691791e+01  0.000000e+00   \n",
       "end_time                    124.0  1.527531e+12  1.107900e+10  1.483953e+12   \n",
       "end_time_timezone_offset    124.0  3.240000e+07  0.000000e+00  3.240000e+07   \n",
       "latitude                    121.0 -1.000000e+00  0.000000e+00 -1.000000e+00   \n",
       "longitude                   121.0 -1.000000e+00  0.000000e+00 -1.000000e+00   \n",
       "max_cadence                 124.0  0.000000e+00  0.000000e+00  0.000000e+00   \n",
       "max_speed                   124.0  1.255716e+01  3.792238e+00  0.000000e+00   \n",
       "pause_duration              124.0  6.772581e+03  3.051654e+04  0.000000e+00   \n",
       "pulse_avg                   125.0  0.000000e+00  0.000000e+00  0.000000e+00   \n",
       "pulse_max                   125.0  0.000000e+00  0.000000e+00  0.000000e+00   \n",
       "start_time                  125.0  1.527443e+12  1.107619e+10  1.483951e+12   \n",
       "start_time_timezone_offset  125.0  3.240000e+07  0.000000e+00  3.240000e+07   \n",
       "temperature                  58.0  1.817241e+01  6.049903e+00  2.000000e+00   \n",
       "updated_at                  125.0  1.528279e+12  1.044782e+10  1.484437e+12   \n",
       "\n",
       "                                     25%           50%           75%  \\\n",
       "average_speed               8.844195e+00  9.796326e+00  1.063885e+01   \n",
       "avg_cadence                 0.000000e+00  0.000000e+00  0.000000e+00   \n",
       "calories                    1.635000e+02  2.315000e+02  2.512500e+02   \n",
       "created_at                  1.519687e+12  1.527460e+12  1.536445e+12   \n",
       "distance                    2.437000e+03  3.466000e+03  3.705000e+03   \n",
       "duration                    9.102370e+05  1.262852e+06  1.594335e+06   \n",
       "duration_per_km             3.373880e+05  3.655155e+05  4.032150e+05   \n",
       "elevation_gain              2.500000e+01  3.350000e+01  4.700000e+01   \n",
       "elevation_loss              2.400000e+01  3.450000e+01  4.900000e+01   \n",
       "end_time                    1.519602e+12  1.527589e+12  1.536464e+12   \n",
       "end_time_timezone_offset    3.240000e+07  3.240000e+07  3.240000e+07   \n",
       "latitude                   -1.000000e+00 -1.000000e+00 -1.000000e+00   \n",
       "longitude                  -1.000000e+00 -1.000000e+00 -1.000000e+00   \n",
       "max_cadence                 0.000000e+00  0.000000e+00  0.000000e+00   \n",
       "max_speed                   1.188305e+01  1.274727e+01  1.343914e+01   \n",
       "pause_duration              0.000000e+00  0.000000e+00  0.000000e+00   \n",
       "pulse_avg                   0.000000e+00  0.000000e+00  0.000000e+00   \n",
       "pulse_max                   0.000000e+00  0.000000e+00  0.000000e+00   \n",
       "start_time                  1.519342e+12  1.527458e+12  1.536443e+12   \n",
       "start_time_timezone_offset  3.240000e+07  3.240000e+07  3.240000e+07   \n",
       "temperature                 1.500000e+01  1.900000e+01  2.100000e+01   \n",
       "updated_at                  1.519818e+12  1.528064e+12  1.536614e+12   \n",
       "\n",
       "                                     max  \n",
       "average_speed               1.157178e+01  \n",
       "avg_cadence                 0.000000e+00  \n",
       "calories                    6.470000e+02  \n",
       "created_at                  1.544739e+12  \n",
       "distance                    5.856000e+03  \n",
       "duration                    4.532343e+06  \n",
       "duration_per_km             2.282608e+06  \n",
       "elevation_gain              1.000000e+02  \n",
       "elevation_loss              1.120000e+02  \n",
       "end_time                    1.544739e+12  \n",
       "end_time_timezone_offset    3.240000e+07  \n",
       "latitude                   -1.000000e+00  \n",
       "longitude                  -1.000000e+00  \n",
       "max_cadence                 0.000000e+00  \n",
       "max_speed                   4.186800e+01  \n",
       "pause_duration              2.312020e+05  \n",
       "pulse_avg                   0.000000e+00  \n",
       "pulse_max                   0.000000e+00  \n",
       "start_time                  1.544738e+12  \n",
       "start_time_timezone_offset  3.240000e+07  \n",
       "temperature                 2.900000e+01  \n",
       "updated_at                  1.544754e+12  "
      ]
     },
     "execution_count": 88,
     "metadata": {},
     "output_type": "execute_result"
    }
   ],
   "source": [
    "df.describe().T"
   ]
  },
  {
   "cell_type": "code",
   "execution_count": 89,
   "metadata": {},
   "outputs": [
    {
     "data": {
      "text/html": [
       "<div>\n",
       "<style scoped>\n",
       "    .dataframe tbody tr th:only-of-type {\n",
       "        vertical-align: middle;\n",
       "    }\n",
       "\n",
       "    .dataframe tbody tr th {\n",
       "        vertical-align: top;\n",
       "    }\n",
       "\n",
       "    .dataframe thead th {\n",
       "        text-align: right;\n",
       "    }\n",
       "</style>\n",
       "<table border=\"1\" class=\"dataframe\">\n",
       "  <thead>\n",
       "    <tr style=\"text-align: right;\">\n",
       "      <th></th>\n",
       "      <th>average_speed</th>\n",
       "      <th>avg_cadence</th>\n",
       "      <th>calories</th>\n",
       "      <th>cheering_enabled</th>\n",
       "      <th>completed</th>\n",
       "      <th>created_at</th>\n",
       "      <th>distance</th>\n",
       "      <th>duration</th>\n",
       "      <th>duration_per_km</th>\n",
       "      <th>edited</th>\n",
       "      <th>...</th>\n",
       "      <th>pulse_max</th>\n",
       "      <th>sport_type_id</th>\n",
       "      <th>start_time</th>\n",
       "      <th>start_time_timezone_offset</th>\n",
       "      <th>subjective_feeling_id</th>\n",
       "      <th>surface_id</th>\n",
       "      <th>temperature</th>\n",
       "      <th>updated_at</th>\n",
       "      <th>user_equipment_ids</th>\n",
       "      <th>weather_condition_id</th>\n",
       "    </tr>\n",
       "  </thead>\n",
       "  <tbody>\n",
       "    <tr>\n",
       "      <th>54</th>\n",
       "      <td>5.527294</td>\n",
       "      <td>0.0</td>\n",
       "      <td>276.0</td>\n",
       "      <td>False</td>\n",
       "      <td>True</td>\n",
       "      <td>1483953477000</td>\n",
       "      <td>2937</td>\n",
       "      <td>1912907</td>\n",
       "      <td>651313.0</td>\n",
       "      <td>False</td>\n",
       "      <td>...</td>\n",
       "      <td>0</td>\n",
       "      <td>1</td>\n",
       "      <td>1483951430000</td>\n",
       "      <td>32400000</td>\n",
       "      <td>3</td>\n",
       "      <td>1</td>\n",
       "      <td>NaN</td>\n",
       "      <td>1544754024000</td>\n",
       "      <td>NaN</td>\n",
       "      <td>5</td>\n",
       "    </tr>\n",
       "    <tr>\n",
       "      <th>63</th>\n",
       "      <td>10.217961</td>\n",
       "      <td>0.0</td>\n",
       "      <td>241.0</td>\n",
       "      <td>False</td>\n",
       "      <td>True</td>\n",
       "      <td>1484436510000</td>\n",
       "      <td>3688</td>\n",
       "      <td>1299359</td>\n",
       "      <td>352321.0</td>\n",
       "      <td>False</td>\n",
       "      <td>...</td>\n",
       "      <td>0</td>\n",
       "      <td>1</td>\n",
       "      <td>1484434977000</td>\n",
       "      <td>32400000</td>\n",
       "      <td>3</td>\n",
       "      <td>NaN</td>\n",
       "      <td>NaN</td>\n",
       "      <td>1484436518000</td>\n",
       "      <td>NaN</td>\n",
       "      <td>NaN</td>\n",
       "    </tr>\n",
       "    <tr>\n",
       "      <th>75</th>\n",
       "      <td>3.666546</td>\n",
       "      <td>0.0</td>\n",
       "      <td>347.0</td>\n",
       "      <td>False</td>\n",
       "      <td>True</td>\n",
       "      <td>1484483458000</td>\n",
       "      <td>2516</td>\n",
       "      <td>2470336</td>\n",
       "      <td>981851.0</td>\n",
       "      <td>False</td>\n",
       "      <td>...</td>\n",
       "      <td>0</td>\n",
       "      <td>1</td>\n",
       "      <td>1484480988000</td>\n",
       "      <td>32400000</td>\n",
       "      <td>1</td>\n",
       "      <td>NaN</td>\n",
       "      <td>NaN</td>\n",
       "      <td>1484483496000</td>\n",
       "      <td>NaN</td>\n",
       "      <td>5</td>\n",
       "    </tr>\n",
       "    <tr>\n",
       "      <th>42</th>\n",
       "      <td>9.666340</td>\n",
       "      <td>0.0</td>\n",
       "      <td>160.0</td>\n",
       "      <td>True</td>\n",
       "      <td>True</td>\n",
       "      <td>1515284383000</td>\n",
       "      <td>2411</td>\n",
       "      <td>895313</td>\n",
       "      <td>371345.0</td>\n",
       "      <td>False</td>\n",
       "      <td>...</td>\n",
       "      <td>0</td>\n",
       "      <td>1</td>\n",
       "      <td>1515284352000</td>\n",
       "      <td>32400000</td>\n",
       "      <td>2</td>\n",
       "      <td>1</td>\n",
       "      <td>NaN</td>\n",
       "      <td>1516487301000</td>\n",
       "      <td>[5a63c2839076cb4ba100b747]</td>\n",
       "      <td>NaN</td>\n",
       "    </tr>\n",
       "    <tr>\n",
       "      <th>18</th>\n",
       "      <td>9.595792</td>\n",
       "      <td>0.0</td>\n",
       "      <td>155.0</td>\n",
       "      <td>True</td>\n",
       "      <td>True</td>\n",
       "      <td>1515450907000</td>\n",
       "      <td>2332</td>\n",
       "      <td>871507</td>\n",
       "      <td>373717.0</td>\n",
       "      <td>False</td>\n",
       "      <td>...</td>\n",
       "      <td>0</td>\n",
       "      <td>1</td>\n",
       "      <td>1515450906000</td>\n",
       "      <td>32400000</td>\n",
       "      <td>3</td>\n",
       "      <td>1</td>\n",
       "      <td>NaN</td>\n",
       "      <td>1544754333000</td>\n",
       "      <td>[5a63c2839076cb4ba100b747]</td>\n",
       "      <td>NaN</td>\n",
       "    </tr>\n",
       "  </tbody>\n",
       "</table>\n",
       "<p>5 rows × 36 columns</p>\n",
       "</div>"
      ],
      "text/plain": [
       "    average_speed  avg_cadence  calories  cheering_enabled  completed  \\\n",
       "54       5.527294          0.0     276.0             False       True   \n",
       "63      10.217961          0.0     241.0             False       True   \n",
       "75       3.666546          0.0     347.0             False       True   \n",
       "42       9.666340          0.0     160.0              True       True   \n",
       "18       9.595792          0.0     155.0              True       True   \n",
       "\n",
       "       created_at  distance  duration  duration_per_km edited  \\\n",
       "54  1483953477000      2937   1912907         651313.0  False   \n",
       "63  1484436510000      3688   1299359         352321.0  False   \n",
       "75  1484483458000      2516   2470336         981851.0  False   \n",
       "42  1515284383000      2411    895313         371345.0  False   \n",
       "18  1515450907000      2332    871507         373717.0  False   \n",
       "\n",
       "            ...           pulse_max  sport_type_id     start_time  \\\n",
       "54          ...                   0              1  1483951430000   \n",
       "63          ...                   0              1  1484434977000   \n",
       "75          ...                   0              1  1484480988000   \n",
       "42          ...                   0              1  1515284352000   \n",
       "18          ...                   0              1  1515450906000   \n",
       "\n",
       "    start_time_timezone_offset subjective_feeling_id surface_id temperature  \\\n",
       "54                    32400000                     3          1         NaN   \n",
       "63                    32400000                     3        NaN         NaN   \n",
       "75                    32400000                     1        NaN         NaN   \n",
       "42                    32400000                     2          1         NaN   \n",
       "18                    32400000                     3          1         NaN   \n",
       "\n",
       "       updated_at          user_equipment_ids  weather_condition_id  \n",
       "54  1544754024000                         NaN                     5  \n",
       "63  1484436518000                         NaN                   NaN  \n",
       "75  1484483496000                         NaN                     5  \n",
       "42  1516487301000  [5a63c2839076cb4ba100b747]                   NaN  \n",
       "18  1544754333000  [5a63c2839076cb4ba100b747]                   NaN  \n",
       "\n",
       "[5 rows x 36 columns]"
      ]
     },
     "execution_count": 89,
     "metadata": {},
     "output_type": "execute_result"
    }
   ],
   "source": [
    "x = df.sort_values(\"start_time\")\n",
    "x.reindex(range(0, df.shape[0]), axis='index')\n",
    "x.head()"
   ]
  },
  {
   "cell_type": "code",
   "execution_count": 90,
   "metadata": {},
   "outputs": [],
   "source": [
    "def preprocess(df):\n",
    "    df = df.assign(\n",
    "        start_at=[arrow.get(str(x/1000)).to(\"JST\") for x in df.start_time] # unixtime --> datetime\n",
    "    )\n",
    "    df = df.assign(\n",
    "        start_date=[x.date() for x in df.start_at],\n",
    "        syear=[int(x.format(\"YYYY\")) for x in df.start_at],\n",
    "        smonth=[int(x.format(\"MM\")) for x in df.start_at],\n",
    "        sday=[int(x.format(\"DD\")) for x in df.start_at],\n",
    "        sweekday=[x.weekday() for x in df.start_at],\n",
    "        shour=[int(x.format(\"HH\")) for x in df.start_at]\n",
    "    )\n",
    "    df = df.sort_values(\"start_at\")\n",
    "    cols = [\"duration\", \"distance\",\"duration_per_km\",\"start_at\", \"start_date\",\"syear\", \"smonth\",\"sday\",\"sweekday\", \"shour\"]\n",
    "    res = df.loc[:, cols].query(\"syear == '2018'\").sort_values(\"start_at\")\n",
    "    res.index = range(0, res.shape[0])\n",
    "    return res"
   ]
  },
  {
   "cell_type": "code",
   "execution_count": 91,
   "metadata": {},
   "outputs": [
    {
     "data": {
      "text/plain": [
       "(125, 36)"
      ]
     },
     "execution_count": 91,
     "metadata": {},
     "output_type": "execute_result"
    }
   ],
   "source": [
    "df.shape"
   ]
  },
  {
   "cell_type": "code",
   "execution_count": 92,
   "metadata": {},
   "outputs": [
    {
     "data": {
      "text/html": [
       "<div>\n",
       "<style scoped>\n",
       "    .dataframe tbody tr th:only-of-type {\n",
       "        vertical-align: middle;\n",
       "    }\n",
       "\n",
       "    .dataframe tbody tr th {\n",
       "        vertical-align: top;\n",
       "    }\n",
       "\n",
       "    .dataframe thead th {\n",
       "        text-align: right;\n",
       "    }\n",
       "</style>\n",
       "<table border=\"1\" class=\"dataframe\">\n",
       "  <thead>\n",
       "    <tr style=\"text-align: right;\">\n",
       "      <th></th>\n",
       "      <th>duration</th>\n",
       "      <th>distance</th>\n",
       "      <th>duration_per_km</th>\n",
       "      <th>start_at</th>\n",
       "      <th>start_date</th>\n",
       "      <th>syear</th>\n",
       "      <th>smonth</th>\n",
       "      <th>sday</th>\n",
       "      <th>sweekday</th>\n",
       "      <th>shour</th>\n",
       "    </tr>\n",
       "  </thead>\n",
       "  <tbody>\n",
       "    <tr>\n",
       "      <th>0</th>\n",
       "      <td>895313</td>\n",
       "      <td>2411</td>\n",
       "      <td>371345.0</td>\n",
       "      <td>2018-01-07T09:19:12+09:00</td>\n",
       "      <td>2018-01-07</td>\n",
       "      <td>2018</td>\n",
       "      <td>1</td>\n",
       "      <td>7</td>\n",
       "      <td>6</td>\n",
       "      <td>9</td>\n",
       "    </tr>\n",
       "    <tr>\n",
       "      <th>1</th>\n",
       "      <td>871507</td>\n",
       "      <td>2332</td>\n",
       "      <td>373717.0</td>\n",
       "      <td>2018-01-09T07:35:06+09:00</td>\n",
       "      <td>2018-01-09</td>\n",
       "      <td>2018</td>\n",
       "      <td>1</td>\n",
       "      <td>9</td>\n",
       "      <td>1</td>\n",
       "      <td>7</td>\n",
       "    </tr>\n",
       "    <tr>\n",
       "      <th>2</th>\n",
       "      <td>913927</td>\n",
       "      <td>2468</td>\n",
       "      <td>370311.0</td>\n",
       "      <td>2018-01-10T06:54:48+09:00</td>\n",
       "      <td>2018-01-10</td>\n",
       "      <td>2018</td>\n",
       "      <td>1</td>\n",
       "      <td>10</td>\n",
       "      <td>2</td>\n",
       "      <td>6</td>\n",
       "    </tr>\n",
       "    <tr>\n",
       "      <th>3</th>\n",
       "      <td>859613</td>\n",
       "      <td>2410</td>\n",
       "      <td>356686.0</td>\n",
       "      <td>2018-01-11T06:52:48+09:00</td>\n",
       "      <td>2018-01-11</td>\n",
       "      <td>2018</td>\n",
       "      <td>1</td>\n",
       "      <td>11</td>\n",
       "      <td>3</td>\n",
       "      <td>6</td>\n",
       "    </tr>\n",
       "    <tr>\n",
       "      <th>4</th>\n",
       "      <td>796132</td>\n",
       "      <td>2375</td>\n",
       "      <td>335213.0</td>\n",
       "      <td>2018-01-12T07:03:01+09:00</td>\n",
       "      <td>2018-01-12</td>\n",
       "      <td>2018</td>\n",
       "      <td>1</td>\n",
       "      <td>12</td>\n",
       "      <td>4</td>\n",
       "      <td>7</td>\n",
       "    </tr>\n",
       "  </tbody>\n",
       "</table>\n",
       "</div>"
      ],
      "text/plain": [
       "   duration  distance  duration_per_km                   start_at  start_date  \\\n",
       "0    895313      2411         371345.0  2018-01-07T09:19:12+09:00  2018-01-07   \n",
       "1    871507      2332         373717.0  2018-01-09T07:35:06+09:00  2018-01-09   \n",
       "2    913927      2468         370311.0  2018-01-10T06:54:48+09:00  2018-01-10   \n",
       "3    859613      2410         356686.0  2018-01-11T06:52:48+09:00  2018-01-11   \n",
       "4    796132      2375         335213.0  2018-01-12T07:03:01+09:00  2018-01-12   \n",
       "\n",
       "   syear  smonth  sday  sweekday  shour  \n",
       "0   2018       1     7         6      9  \n",
       "1   2018       1     9         1      7  \n",
       "2   2018       1    10         2      6  \n",
       "3   2018       1    11         3      6  \n",
       "4   2018       1    12         4      7  "
      ]
     },
     "execution_count": 92,
     "metadata": {},
     "output_type": "execute_result"
    }
   ],
   "source": [
    "dat = preprocess(df)\n",
    "dat.head()"
   ]
  },
  {
   "cell_type": "code",
   "execution_count": 93,
   "metadata": {},
   "outputs": [
    {
     "data": {
      "text/plain": [
       "<matplotlib.axes._subplots.AxesSubplot at 0x11e2d0438>"
      ]
     },
     "execution_count": 93,
     "metadata": {},
     "output_type": "execute_result"
    },
    {
     "data": {
      "image/png": "[encoded data removed]",
      "text/plain": [
       "<Figure size 432x288 with 1 Axes>"
      ]
     },
     "metadata": {
      "needs_background": "light"
     },
     "output_type": "display_data"
    }
   ],
   "source": [
    "# 月ごとの走行距離（runtasticのアプリでも見れているデータ）\n",
    "dat.groupby(\"smonth\").sum().distance.plot(kind=\"bar\", color=\"lightblue\")"
   ]
  },
  {
   "cell_type": "code",
   "execution_count": 94,
   "metadata": {},
   "outputs": [
    {
     "data": {
      "text/plain": [
       "<matplotlib.axes._subplots.AxesSubplot at 0x11d9e82b0>"
      ]
     },
     "execution_count": 94,
     "metadata": {},
     "output_type": "execute_result"
    },
    {
     "data": {
      "image/png": "[encoded data removed]",
      "text/plain": [
       "<Figure size 432x288 with 1 Axes>"
      ]
     },
     "metadata": {
      "needs_background": "light"
     },
     "output_type": "display_data"
    }
   ],
   "source": [
    "# 走行距離分布(単位:メートル)\n",
    "# 3, 4キロあたりが多い。\n",
    "dat.distance.hist()"
   ]
  },
  {
   "cell_type": "code",
   "execution_count": 95,
   "metadata": {},
   "outputs": [
    {
     "data": {
      "text/plain": [
       "<matplotlib.axes._subplots.AxesSubplot at 0x11de04320>"
      ]
     },
     "execution_count": 95,
     "metadata": {},
     "output_type": "execute_result"
    },
    {
     "data": {
      "image/png": "[encoded data removed]",
      "text/plain": [
       "<Figure size 432x288 with 1 Axes>"
      ]
     },
     "metadata": {
      "needs_background": "light"
     },
     "output_type": "display_data"
    }
   ],
   "source": [
    "# ランニング開始時間 基本的に6-7時台\n",
    "dat.shour.hist()"
   ]
  },
  {
   "cell_type": "code",
   "execution_count": 96,
   "metadata": {},
   "outputs": [
    {
     "data": {
      "text/plain": [
       "<matplotlib.axes._subplots.AxesSubplot at 0x11e7866a0>"
      ]
     },
     "execution_count": 96,
     "metadata": {},
     "output_type": "execute_result"
    },
    {
     "data": {
      "image/png": "[encoded data removed]",
      "text/plain": [
       "<Figure size 432x288 with 1 Axes>"
      ]
     },
     "metadata": {
      "needs_background": "light"
     },
     "output_type": "display_data"
    }
   ],
   "source": [
    "# １回あたりの走行距離の分布\n",
    "sns.swarmplot(x=\"smonth\", y=\"distance\", data=dat)"
   ]
  },
  {
   "cell_type": "code",
   "execution_count": 97,
   "metadata": {},
   "outputs": [
    {
     "data": {
      "text/plain": [
       "<matplotlib.axes._subplots.AxesSubplot at 0x117fb7748>"
      ]
     },
     "execution_count": 97,
     "metadata": {},
     "output_type": "execute_result"
    },
    {
     "data": {
      "image/png": "[encoded data removed]",
      "text/plain": [
       "<Figure size 432x288 with 1 Axes>"
      ]
     },
     "metadata": {
      "needs_background": "light"
     },
     "output_type": "display_data"
    }
   ],
   "source": [
    "# 月ごとの走行回数\n",
    "dat.groupby(\"smonth\").count().start_date.plot(kind=\"bar\", color=\"lightgreen\")"
   ]
  },
  {
   "cell_type": "markdown",
   "metadata": {},
   "source": [
    "データを見て思ったこと。\n",
    "\n",
    "- 4, 7, 11, 12月で走る回数が減っている\n",
    "  - 4月は仕事でもやもやしていた時期\n",
    "  - 7月は息子爆誕。パパ業\n",
    "  - 冬は寒い\n",
    "\n",
    "- 5月、9月で持ち返している\n",
    "  - 5月で産休の妻と実家に帰省。仕事もセーブしていたので暇だったw\n",
    "  - 9月はDjp参加。筋トレチャンネルで報告を始めたのが良かったのかも"
   ]
  },
  {
   "cell_type": "code",
   "execution_count": 98,
   "metadata": {},
   "outputs": [
    {
     "data": {
      "text/plain": [
       "DatetimeIndex(['2018-01-01', '2018-01-02', '2018-01-03', '2018-01-04',\n",
       "               '2018-01-05', '2018-01-06', '2018-01-07', '2018-01-08',\n",
       "               '2018-01-09', '2018-01-10',\n",
       "               ...\n",
       "               '2019-11-22', '2019-11-23', '2019-11-24', '2019-11-25',\n",
       "               '2019-11-26', '2019-11-27', '2019-11-28', '2019-11-29',\n",
       "               '2019-11-30', '2019-12-01'],\n",
       "              dtype='datetime64[ns]', length=700, freq='D')"
      ]
     },
     "execution_count": 98,
     "metadata": {},
     "output_type": "execute_result"
    }
   ],
   "source": [
    "all_days"
   ]
  },
  {
   "cell_type": "code",
   "execution_count": 99,
   "metadata": {},
   "outputs": [],
   "source": [
    "import calmap"
   ]
  },
  {
   "cell_type": "code",
   "execution_count": 173,
   "metadata": {},
   "outputs": [
    {
     "data": {
      "image/png": "[encoded data removed]",
      "text/plain": [
       "<Figure size 864x576 with 1 Axes>"
      ]
     },
     "metadata": {
      "needs_background": "light"
     },
     "output_type": "display_data"
    }
   ],
   "source": [
    "_dat = dat.loc[:,[\"start_date\", \"distance\"]].groupby(\"start_date\").sum()\n",
    "\n",
    "x = pd.DataFrame(pd.Series(_dat.distance, index=days))\n",
    "\n",
    "\n",
    "\"\"\"\n",
    "calmap.calendarplot(x.distance, monthticks=3, daylabels='MTWTFSS',\n",
    "                    dayticks=[0, 2, 4, 6], cmap='YlGn',\n",
    "                    fillcolor='white', linewidth=0,\n",
    "                    fig_kws=dict(figsize=(12, 8)));\n",
    "\"\"\"\n",
    "\n",
    "\n",
    "calmap.calendarplot(x.distance, cmap='YlGn',\n",
    "                    fillcolor='white',\n",
    "                    fig_kws=dict(figsize=(12, 8)));"
   ]
  },
  {
   "cell_type": "code",
   "execution_count": null,
   "metadata": {},
   "outputs": [],
   "source": []
  },
  {
   "cell_type": "code",
   "execution_count": null,
   "metadata": {},
   "outputs": [],
   "source": []
  },
  {
   "cell_type": "code",
   "execution_count": null,
   "metadata": {},
   "outputs": [],
   "source": []
  },
  {
   "cell_type": "code",
   "execution_count": null,
   "metadata": {},
   "outputs": [],
   "source": []
  }
 ],
 "metadata": {
  "kernelspec": {
   "display_name": "Python 3",
   "language": "python",
   "name": "python3"
  },
  "language_info": {
   "codemirror_mode": {
    "name": "ipython",
    "version": 3
   },
   "file_extension": ".py",
   "mimetype": "text/x-python",
   "name": "python",
   "nbconvert_exporter": "python",
   "pygments_lexer": "ipython3",
   "version": "3.6.6"
  }
 },
 "nbformat": 4,
 "nbformat_minor": 2
}
